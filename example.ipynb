{
 "cells": [
  {
   "cell_type": "code",
   "execution_count": 1,
   "id": "a1a1789a",
   "metadata": {},
   "outputs": [],
   "source": [
    "import os\n",
    "import time\n",
    "\n",
    "import pandas as pd\n",
    "import numpy as np\n",
    "from tqdm.notebook import tqdm\n",
    "import torch\n",
    "\n",
    "from classy.preprocess.tokenize import FilterTokenize_DF\n",
    "from classy.preprocess.embed import Generate_Embeddings\n",
    "from datasets import load_dataset"
   ]
  },
  {
   "cell_type": "markdown",
   "id": "39ef3c9a",
   "metadata": {},
   "source": [
    "Here we demonstrate the use of classy in loading a dataset, doing tokenization, generating embeddings followed by training a neural network to learn the sentiment label"
   ]
  },
  {
   "cell_type": "markdown",
   "id": "a336cbb7",
   "metadata": {},
   "source": [
    "## Tokenize and Generate Embeddings\n",
    "\n",
    "### load imdb dataset"
   ]
  },
  {
   "cell_type": "code",
   "execution_count": 2,
   "id": "b8c30a57",
   "metadata": {},
   "outputs": [
    {
     "name": "stderr",
     "output_type": "stream",
     "text": [
      "Reusing dataset imdb (C:\\Users\\taraf\\.cache\\huggingface\\datasets\\imdb\\plain_text\\1.0.0\\2fdd8b9bcadd6e7055e742a706876ba43f19faee861df134affd7a3f60fc38a1)\n"
     ]
    },
    {
     "data": {
      "application/vnd.jupyter.widget-view+json": {
       "model_id": "e01c519f09ed4cbb892cfe197b3227fc",
       "version_major": 2,
       "version_minor": 0
      },
      "text/plain": [
       "  0%|          | 0/2 [00:00<?, ?it/s]"
      ]
     },
     "metadata": {},
     "output_type": "display_data"
    },
    {
     "data": {
      "text/html": [
       "<div>\n",
       "<style scoped>\n",
       "    .dataframe tbody tr th:only-of-type {\n",
       "        vertical-align: middle;\n",
       "    }\n",
       "\n",
       "    .dataframe tbody tr th {\n",
       "        vertical-align: top;\n",
       "    }\n",
       "\n",
       "    .dataframe thead th {\n",
       "        text-align: right;\n",
       "    }\n",
       "</style>\n",
       "<table border=\"1\" class=\"dataframe\">\n",
       "  <thead>\n",
       "    <tr style=\"text-align: right;\">\n",
       "      <th></th>\n",
       "      <th>text</th>\n",
       "      <th>label</th>\n",
       "    </tr>\n",
       "  </thead>\n",
       "  <tbody>\n",
       "    <tr>\n",
       "      <th>0</th>\n",
       "      <td>I rented I AM CURIOUS-YELLOW from my video sto...</td>\n",
       "      <td>0</td>\n",
       "    </tr>\n",
       "    <tr>\n",
       "      <th>1</th>\n",
       "      <td>\"I Am Curious: Yellow\" is a risible and preten...</td>\n",
       "      <td>0</td>\n",
       "    </tr>\n",
       "    <tr>\n",
       "      <th>2</th>\n",
       "      <td>If only to avoid making this type of film in t...</td>\n",
       "      <td>0</td>\n",
       "    </tr>\n",
       "    <tr>\n",
       "      <th>3</th>\n",
       "      <td>This film was probably inspired by Godard's Ma...</td>\n",
       "      <td>0</td>\n",
       "    </tr>\n",
       "    <tr>\n",
       "      <th>4</th>\n",
       "      <td>Oh, brother...after hearing about this ridicul...</td>\n",
       "      <td>0</td>\n",
       "    </tr>\n",
       "  </tbody>\n",
       "</table>\n",
       "</div>"
      ],
      "text/plain": [
       "                                                text  label\n",
       "0  I rented I AM CURIOUS-YELLOW from my video sto...      0\n",
       "1  \"I Am Curious: Yellow\" is a risible and preten...      0\n",
       "2  If only to avoid making this type of film in t...      0\n",
       "3  This film was probably inspired by Godard's Ma...      0\n",
       "4  Oh, brother...after hearing about this ridicul...      0"
      ]
     },
     "execution_count": 2,
     "metadata": {},
     "output_type": "execute_result"
    }
   ],
   "source": [
    "df = load_dataset('imdb',split=['train','test'])\n",
    "\n",
    "df_train = df[0].to_pandas()\n",
    "\n",
    "df_train.head()"
   ]
  },
  {
   "cell_type": "markdown",
   "id": "b399bf34",
   "metadata": {},
   "source": [
    "### tokenize the dataset using treebank or spacy based tokenization "
   ]
  },
  {
   "cell_type": "code",
   "execution_count": 3,
   "id": "cb7cf0d7",
   "metadata": {},
   "outputs": [
    {
     "name": "stderr",
     "output_type": "stream",
     "text": [
      "Repartition: 100%|███████████████████████████████████████████████████████████████████████| 8/8 [00:00<00:00,  8.40it/s]\n",
      "Map_Batches: 100%|███████████████████████████████████████████████████████████████████████| 8/8 [00:18<00:00,  2.30s/it]\n",
      "Map_Batches: 100%|███████████████████████████████████████████████████████████████████████| 8/8 [00:00<00:00, 24.27it/s]\n"
     ]
    },
    {
     "name": "stdout",
     "output_type": "stream",
     "text": [
      "Total Time Elapsed: 31.07\n"
     ]
    }
   ],
   "source": [
    "df_train = FilterTokenize_DF(df_train, text_col='text', mode='treebank',output_col='tokens', workers=8)"
   ]
  },
  {
   "cell_type": "markdown",
   "id": "43a23f7b",
   "metadata": {},
   "source": [
    "### generate embeddings for this dataset, we can use word2vec or doc2vec"
   ]
  },
  {
   "cell_type": "markdown",
   "id": "a05abacf",
   "metadata": {},
   "source": [
    "We specify the embedding dimension, the word window to compute the embedding over, the minimum count for a word in the corpus, \n",
    "and sequence length truncating options; seq_len_threshold_perc - sets the top length threshold according to the quantile specified above which the token sequences are zero-padded.\n",
    "\n",
    "For doc2vec we need to specify a tag column which contains the identity of the document/section/paragraph id "
   ]
  },
  {
   "cell_type": "code",
   "execution_count": 4,
   "id": "34b14fab",
   "metadata": {},
   "outputs": [
    {
     "name": "stdout",
     "output_type": "stream",
     "text": [
      "Vocabulary Size: 10051\n",
      "\n",
      "w2v trained: 41.103 s Elapsed\n",
      "\n",
      "Sequence Length Threshold: 348\n",
      "\n",
      "embedding matrix dimensions:\n",
      "(10053, 100)\n",
      "\n",
      "token dimensions:\n",
      "(25000, 348)\n",
      "\n",
      "Embeddings, Tokens and Labels Generated... 45.017 s Elapsed\n"
     ]
    }
   ],
   "source": [
    "ge = Generate_Embeddings(embedding='w2v', token_column='tokens',\n",
    "                         word_window=5, min_count=30, seq_len_threshold_perc=0.95,\n",
    "                         workers=8)\n",
    "\n",
    "embedding_matrix, word2index, tokens = ge.compute_embedding(df_train)"
   ]
  },
  {
   "cell_type": "code",
   "execution_count": 5,
   "id": "b3613b80",
   "metadata": {},
   "outputs": [
    {
     "data": {
      "text/plain": [
       "array([[ 0.        ,  0.        ,  0.        , ...,  0.        ,\n",
       "         0.        ,  0.        ],\n",
       "       [-0.12971829, -0.26319999,  0.02402789, ...,  0.33674842,\n",
       "         0.1165811 ,  0.14316599],\n",
       "       [-0.0328314 ,  0.39937162, -0.23568618, ...,  0.55006105,\n",
       "        -0.11369486, -0.06379923],\n",
       "       ...,\n",
       "       [-0.25376031, -1.24074113, -0.67464334, ..., -0.5616805 ,\n",
       "        -0.12743337, -0.72907329],\n",
       "       [-0.20227741,  0.89413756,  0.07795378, ..., -0.05805502,\n",
       "         0.30826432,  0.36391801],\n",
       "       [ 0.58463391,  0.9730219 ,  0.64751847, ...,  0.95193533,\n",
       "         0.97570286,  0.07002539]])"
      ]
     },
     "execution_count": 5,
     "metadata": {},
     "output_type": "execute_result"
    }
   ],
   "source": [
    "embedding_matrix"
   ]
  },
  {
   "cell_type": "markdown",
   "id": "03e1ffe5",
   "metadata": {},
   "source": [
    "### save data locally"
   ]
  },
  {
   "cell_type": "markdown",
   "id": "c748f640",
   "metadata": {},
   "source": [
    "we save the data locally for loading, automatic caching will be explored in the future "
   ]
  },
  {
   "cell_type": "code",
   "execution_count": 6,
   "id": "4f10cdb2",
   "metadata": {},
   "outputs": [],
   "source": [
    "directory = os.getcwd()"
   ]
  },
  {
   "cell_type": "code",
   "execution_count": 7,
   "id": "437c0d55",
   "metadata": {},
   "outputs": [],
   "source": [
    "with open('embedding_matrix.npy','wb') as f:\n",
    "    np.save(f,embedding_matrix)\n",
    "    \n",
    "with open('tokens.npy','wb') as f:\n",
    "    np.save(f,tokens)\n",
    "    \n",
    "with open('labels.npy','wb') as f:\n",
    "    np.save(f,df_train['label'].values)"
   ]
  },
  {
   "cell_type": "markdown",
   "id": "2a83b860",
   "metadata": {},
   "source": [
    "## Train Network \n",
    "\n",
    "### load data and split "
   ]
  },
  {
   "cell_type": "markdown",
   "id": "9a5e2ae7",
   "metadata": {},
   "source": [
    "Following a check to see the files we have previously saved are in directory, we load the data and split it according to a split ratio, specifying a threshold if we wish to make the task a binary classification one"
   ]
  },
  {
   "cell_type": "code",
   "execution_count": 8,
   "id": "5f448ee0",
   "metadata": {},
   "outputs": [],
   "source": [
    "import os\n",
    "from classy.train.data_loader import LoadData"
   ]
  },
  {
   "cell_type": "code",
   "execution_count": 9,
   "id": "883a8750",
   "metadata": {},
   "outputs": [
    {
     "data": {
      "text/plain": [
       "['embedding_matrix.npy', 'labels.npy', 'tokens.npy']"
      ]
     },
     "execution_count": 9,
     "metadata": {},
     "output_type": "execute_result"
    }
   ],
   "source": [
    "\n",
    "directory = os.getcwd()\n",
    "[x for x in os.listdir(directory) if '.npy' in x]"
   ]
  },
  {
   "cell_type": "code",
   "execution_count": 10,
   "id": "9a0d50e3",
   "metadata": {},
   "outputs": [],
   "source": [
    "input_dic, output_dic, embedding_matrix = LoadData(directory, \n",
    "                                                   split_ratio=0.5, \n",
    "                                                   downsample=1,\n",
    "                                                   binary_target=True, \n",
    "                                                   binary_threshold=0.5)"
   ]
  },
  {
   "cell_type": "code",
   "execution_count": 11,
   "id": "ef55e4da",
   "metadata": {},
   "outputs": [
    {
     "data": {
      "text/plain": [
       "torch.Size([6250, 348])"
      ]
     },
     "execution_count": 11,
     "metadata": {},
     "output_type": "execute_result"
    }
   ],
   "source": [
    "input_dic['train'].shape"
   ]
  },
  {
   "cell_type": "code",
   "execution_count": 12,
   "id": "5acd4860",
   "metadata": {},
   "outputs": [
    {
     "data": {
      "text/plain": [
       "torch.Size([10053, 100])"
      ]
     },
     "execution_count": 12,
     "metadata": {},
     "output_type": "execute_result"
    }
   ],
   "source": [
    "embedding_matrix.shape"
   ]
  },
  {
   "cell_type": "markdown",
   "id": "e9f2db06",
   "metadata": {},
   "source": [
    "### initiate model "
   ]
  },
  {
   "cell_type": "markdown",
   "id": "9ed3c0ad",
   "metadata": {},
   "source": [
    "we initialise a model from our library; these extend to any pytorch models which take a set of tokens and matrix of embeddings\n",
    "as an input; here specify the sequence length specified by the 1th dimension of the input data dictionary, vocabulary size and embedding dimension (specified by the 1st and 0th dimensions of the embedding matrix respectively), whether to freeze to embeddings, the length of various convolutional filters together with the numbers of each, dropout and the number of labels we are trying to classify"
   ]
  },
  {
   "cell_type": "code",
   "execution_count": 26,
   "id": "864968de",
   "metadata": {},
   "outputs": [],
   "source": [
    "import torch\n",
    "import numpy as np\n",
    "from classy.train.models import Conv1D_Network_MultLabel\n",
    "from classy.train.tools import TrainTestNetworkES"
   ]
  },
  {
   "cell_type": "code",
   "execution_count": 41,
   "id": "978d88db",
   "metadata": {},
   "outputs": [],
   "source": [
    "fd = [1,3,5]\n",
    "\n",
    "seq_len = input_dic['train'].shape[1]\n",
    "vocab_size = embedding_matrix.shape[0]\n",
    "embedding_dim = embedding_matrix.shape[1]\n",
    "freeze_embedding = False\n",
    "number_filter_types = len(fd)\n",
    "filter_dim = tuple(fd)\n",
    "number_filters = 8\n",
    "dropout = 0.5\n",
    "num_labels = 1"
   ]
  },
  {
   "cell_type": "code",
   "execution_count": 42,
   "id": "dd6db9e8",
   "metadata": {},
   "outputs": [],
   "source": [
    "model = Conv1D_Network_MultLabel(seq_len=seq_len,\n",
    "                                    embedding_matrix=embedding_matrix,\n",
    "                                    dropout=dropout,\n",
    "                                    filter_dimensions=filter_dim,\n",
    "                                    number_filters=number_filters,\n",
    "                                    num_labels=num_labels)"
   ]
  },
  {
   "cell_type": "markdown",
   "id": "455ddf22",
   "metadata": {},
   "source": [
    "#### get a list of total parameters "
   ]
  },
  {
   "cell_type": "code",
   "execution_count": 43,
   "id": "3ba6d252",
   "metadata": {},
   "outputs": [
    {
     "name": "stdout",
     "output_type": "stream",
     "text": [
      "total number of trainable parameters:7573\n"
     ]
    }
   ],
   "source": [
    "nparams = 0\n",
    "for x in model.parameters():\n",
    "    if x.requires_grad:\n",
    "        nparams += np.prod(x.shape)\n",
    "    \n",
    "print(f'total number of trainable parameters:{nparams}')"
   ]
  },
  {
   "cell_type": "markdown",
   "id": "5f83eb06",
   "metadata": {},
   "source": [
    "### train network "
   ]
  },
  {
   "cell_type": "markdown",
   "id": "f322017d",
   "metadata": {},
   "source": [
    "we now take the following inputs into the TrainTestNetworkES Class: intiated model, specify epochs, batch-size - which will need to be calibrated based on the size of your model and the gpu-memory/cpu-memory, f1-threshold or mean-squared-error threshold over and under which the training early stops, the loss function specified by the criterion and the optimizer which we specify as well with a learning rate eta and the precision value (in float) that we use for the weights"
   ]
  },
  {
   "cell_type": "code",
   "execution_count": 45,
   "id": "c09e93cc",
   "metadata": {},
   "outputs": [],
   "source": [
    "nb_epochs = 40\n",
    "batch_size = int(16e3/8)\n",
    "\n",
    "f1_threshold = 0.91\n",
    "mse_threshold = 0.005\n",
    "\n",
    "eta = 0.0005\n",
    "precision = 'torch.float32'"
   ]
  },
  {
   "cell_type": "code",
   "execution_count": 46,
   "id": "656631c2",
   "metadata": {},
   "outputs": [],
   "source": [
    "optimizer = torch.optim.Adam(model.parameters(),lr=eta)\n",
    "criterion = torch.nn.BCELoss()"
   ]
  },
  {
   "cell_type": "code",
   "execution_count": 47,
   "id": "9934a20d",
   "metadata": {},
   "outputs": [],
   "source": [
    "trainer = TrainTestNetworkES(model, input_dic, output_dic, nb_epochs, batch_size, \\\n",
    "                        criterion, optimizer, f1_threshold, mse_threshold, \\\n",
    "                        batch_progress=False, mode='classification', precision=precision)"
   ]
  },
  {
   "cell_type": "code",
   "execution_count": 48,
   "id": "87f2051b",
   "metadata": {},
   "outputs": [
    {
     "name": "stdout",
     "output_type": "stream",
     "text": [
      "Training using cuda...\n",
      "\n",
      "Epoch: 1, training loss: 0.7244, training f1 score: 0.5148\n",
      "Epoch: 1, validation loss: 0.6980, validation f1 score: 0.5127\n",
      "############################################################################\n",
      "\n",
      "\n",
      "Epoch: 2, training loss: 0.7230, training f1 score: 0.4982\n",
      "Epoch: 2, validation loss: 0.6959, validation f1 score: 0.5097\n",
      "############################################################################\n",
      "\n",
      "\n",
      "Epoch: 3, training loss: 0.7153, training f1 score: 0.5038\n",
      "Epoch: 3, validation loss: 0.6951, validation f1 score: 0.5149\n",
      "############################################################################\n",
      "\n",
      "\n",
      "Epoch: 4, training loss: 0.7123, training f1 score: 0.5192\n",
      "Epoch: 4, validation loss: 0.6949, validation f1 score: 0.5171\n",
      "############################################################################\n",
      "\n",
      "\n",
      "Epoch: 5, training loss: 0.7098, training f1 score: 0.5152\n",
      "Epoch: 5, validation loss: 0.6946, validation f1 score: 0.5177\n",
      "############################################################################\n",
      "\n",
      "\n",
      "Epoch: 6, training loss: 0.7027, training f1 score: 0.5210\n",
      "Epoch: 6, validation loss: 0.6942, validation f1 score: 0.5181\n",
      "############################################################################\n",
      "\n",
      "\n",
      "Epoch: 7, training loss: 0.7035, training f1 score: 0.5220\n",
      "Epoch: 7, validation loss: 0.6939, validation f1 score: 0.5151\n",
      "############################################################################\n",
      "\n",
      "\n",
      "Epoch: 8, training loss: 0.7013, training f1 score: 0.5206\n",
      "Epoch: 8, validation loss: 0.6938, validation f1 score: 0.5160\n",
      "############################################################################\n",
      "\n",
      "\n",
      "Epoch: 9, training loss: 0.6984, training f1 score: 0.5283\n",
      "Epoch: 9, validation loss: 0.6939, validation f1 score: 0.5154\n",
      "############################################################################\n",
      "\n",
      "\n",
      "Epoch: 10, training loss: 0.6982, training f1 score: 0.5287\n",
      "Epoch: 10, validation loss: 0.6940, validation f1 score: 0.5189\n",
      "############################################################################\n",
      "\n",
      "\n",
      "Epoch: 11, training loss: 0.6917, training f1 score: 0.5438\n",
      "Epoch: 11, validation loss: 0.6939, validation f1 score: 0.5198\n",
      "############################################################################\n",
      "\n",
      "\n",
      "Epoch: 12, training loss: 0.6916, training f1 score: 0.5495\n",
      "Epoch: 12, validation loss: 0.6938, validation f1 score: 0.5189\n",
      "############################################################################\n",
      "\n",
      "\n",
      "Epoch: 13, training loss: 0.6922, training f1 score: 0.5444\n",
      "Epoch: 13, validation loss: 0.6936, validation f1 score: 0.5184\n",
      "############################################################################\n",
      "\n",
      "\n",
      "Epoch: 14, training loss: 0.6895, training f1 score: 0.5472\n",
      "Epoch: 14, validation loss: 0.6934, validation f1 score: 0.5196\n",
      "############################################################################\n",
      "\n",
      "\n",
      "Epoch: 15, training loss: 0.6902, training f1 score: 0.5444\n",
      "Epoch: 15, validation loss: 0.6934, validation f1 score: 0.5205\n",
      "############################################################################\n",
      "\n",
      "\n",
      "Epoch: 16, training loss: 0.6859, training f1 score: 0.5514\n",
      "Epoch: 16, validation loss: 0.6934, validation f1 score: 0.5218\n",
      "############################################################################\n",
      "\n",
      "\n",
      "Epoch: 17, training loss: 0.6860, training f1 score: 0.5512\n",
      "Epoch: 17, validation loss: 0.6934, validation f1 score: 0.5221\n",
      "############################################################################\n",
      "\n",
      "\n",
      "Epoch: 18, training loss: 0.6881, training f1 score: 0.5449\n",
      "Epoch: 18, validation loss: 0.6933, validation f1 score: 0.5244\n",
      "############################################################################\n",
      "\n",
      "\n",
      "Epoch: 19, training loss: 0.6847, training f1 score: 0.5551\n",
      "Epoch: 19, validation loss: 0.6931, validation f1 score: 0.5230\n",
      "############################################################################\n",
      "\n",
      "\n",
      "Epoch: 20, training loss: 0.6843, training f1 score: 0.5492\n",
      "Epoch: 20, validation loss: 0.6931, validation f1 score: 0.5257\n",
      "############################################################################\n",
      "\n",
      "\n",
      "Epoch: 21, training loss: 0.6815, training f1 score: 0.5590\n",
      "Epoch: 21, validation loss: 0.6931, validation f1 score: 0.5278\n",
      "############################################################################\n",
      "\n",
      "\n",
      "Epoch: 22, training loss: 0.6789, training f1 score: 0.5681\n",
      "Epoch: 22, validation loss: 0.6932, validation f1 score: 0.5301\n",
      "############################################################################\n",
      "\n",
      "\n",
      "Epoch: 23, training loss: 0.6818, training f1 score: 0.5465\n",
      "Epoch: 23, validation loss: 0.6932, validation f1 score: 0.5305\n",
      "############################################################################\n",
      "\n",
      "\n",
      "Epoch: 24, training loss: 0.6788, training f1 score: 0.5595\n",
      "Epoch: 24, validation loss: 0.6931, validation f1 score: 0.5297\n",
      "############################################################################\n",
      "\n",
      "\n",
      "Epoch: 25, training loss: 0.6780, training f1 score: 0.5653\n",
      "Epoch: 25, validation loss: 0.6930, validation f1 score: 0.5280\n",
      "############################################################################\n",
      "\n",
      "\n",
      "Epoch: 26, training loss: 0.6766, training f1 score: 0.5703\n",
      "Epoch: 26, validation loss: 0.6929, validation f1 score: 0.5247\n",
      "############################################################################\n",
      "\n",
      "\n",
      "Epoch: 27, training loss: 0.6821, training f1 score: 0.5605\n",
      "Epoch: 27, validation loss: 0.6929, validation f1 score: 0.5242\n",
      "############################################################################\n",
      "\n",
      "\n",
      "Epoch: 28, training loss: 0.6744, training f1 score: 0.5867\n",
      "Epoch: 28, validation loss: 0.6929, validation f1 score: 0.5258\n",
      "############################################################################\n",
      "\n",
      "\n",
      "Epoch: 29, training loss: 0.6774, training f1 score: 0.5723\n",
      "Epoch: 29, validation loss: 0.6931, validation f1 score: 0.5302\n",
      "############################################################################\n",
      "\n",
      "\n",
      "Epoch: 30, training loss: 0.6748, training f1 score: 0.5694\n",
      "Epoch: 30, validation loss: 0.6931, validation f1 score: 0.5280\n",
      "############################################################################\n",
      "\n",
      "\n",
      "Epoch: 31, training loss: 0.6754, training f1 score: 0.5727\n",
      "Epoch: 31, validation loss: 0.6930, validation f1 score: 0.5285\n",
      "############################################################################\n",
      "\n",
      "\n",
      "Epoch: 32, training loss: 0.6747, training f1 score: 0.5779\n",
      "Epoch: 32, validation loss: 0.6930, validation f1 score: 0.5268\n",
      "############################################################################\n",
      "\n",
      "\n",
      "Epoch: 33, training loss: 0.6723, training f1 score: 0.5862\n",
      "Epoch: 33, validation loss: 0.6929, validation f1 score: 0.5240\n",
      "############################################################################\n",
      "\n",
      "\n",
      "Epoch: 34, training loss: 0.6740, training f1 score: 0.5728\n",
      "Epoch: 34, validation loss: 0.6930, validation f1 score: 0.5257\n",
      "############################################################################\n",
      "\n",
      "\n",
      "Epoch: 35, training loss: 0.6726, training f1 score: 0.5838\n",
      "Epoch: 35, validation loss: 0.6931, validation f1 score: 0.5248\n",
      "############################################################################\n",
      "\n",
      "\n",
      "Epoch: 36, training loss: 0.6708, training f1 score: 0.5882\n",
      "Epoch: 36, validation loss: 0.6933, validation f1 score: 0.5257\n",
      "############################################################################\n",
      "\n",
      "\n",
      "Epoch: 37, training loss: 0.6706, training f1 score: 0.5812\n",
      "Epoch: 37, validation loss: 0.6933, validation f1 score: 0.5245\n",
      "############################################################################\n",
      "\n",
      "\n",
      "Epoch: 38, training loss: 0.6712, training f1 score: 0.5834\n",
      "Epoch: 38, validation loss: 0.6933, validation f1 score: 0.5226\n",
      "############################################################################\n",
      "\n",
      "\n",
      "Epoch: 39, training loss: 0.6687, training f1 score: 0.5931\n",
      "Epoch: 39, validation loss: 0.6933, validation f1 score: 0.5252\n",
      "############################################################################\n",
      "\n",
      "\n",
      "Epoch: 40, training loss: 0.6700, training f1 score: 0.5865\n",
      "Epoch: 40, validation loss: 0.6933, validation f1 score: 0.5244\n",
      "############################################################################\n",
      "\n",
      "20.03 seconds have elapsed..\n"
     ]
    }
   ],
   "source": [
    "trainer.train()"
   ]
  },
  {
   "cell_type": "markdown",
   "id": "b85b273c",
   "metadata": {},
   "source": [
    "following training we can plot the training loss and save the trained model"
   ]
  },
  {
   "cell_type": "code",
   "execution_count": 49,
   "id": "844421c5",
   "metadata": {},
   "outputs": [
    {
     "data": {
      "image/png": "[encoded data removed]",
      "text/plain": [
       "<Figure size 864x288 with 2 Axes>"
      ]
     },
     "metadata": {
      "needs_background": "light"
     },
     "output_type": "display_data"
    }
   ],
   "source": [
    "trainer.plot_training_loss()"
   ]
  }
 ],
 "metadata": {
  "kernelspec": {
   "display_name": "Python 3 (ipykernel)",
   "language": "python",
   "name": "python3"
  },
  "language_info": {
   "codemirror_mode": {
    "name": "ipython",
    "version": 3
   },
   "file_extension": ".py",
   "mimetype": "text/x-python",
   "name": "python",
   "nbconvert_exporter": "python",
   "pygments_lexer": "ipython3",
   "version": "3.9.13"
  }
 },
 "nbformat": 4,
 "nbformat_minor": 5
}
